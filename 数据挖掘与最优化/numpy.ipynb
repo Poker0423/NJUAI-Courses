{
 "cells": [
  {
   "cell_type": "code",
   "execution_count": 1,
   "id": "825ccad5-3183-47f9-94e5-327a5f410db5",
   "metadata": {},
   "outputs": [],
   "source": [
    "import numpy as np #导入numpy库"
   ]
  },
  {
   "cell_type": "code",
   "execution_count": 2,
   "id": "76a51642-9564-470a-8d76-e93f8208b1d6",
   "metadata": {},
   "outputs": [
    {
     "name": "stdout",
     "output_type": "stream",
     "text": [
      "[1 2 3]\n",
      "[[1 2]\n",
      " [3 4]]\n",
      "<class 'numpy.ndarray'>\n"
     ]
    }
   ],
   "source": [
    "# 利用已有数据生成数组\n",
    "n1 = np.array([1,2,3]) # 将列表转换成数组，将列表换成元组也可以\n",
    "n2 = np.array([[1,2],[3,4]]) # 将嵌套列表转换成多维数组\n",
    "print(n1)\n",
    "print(n2)\n",
    "print(type(n1))"
   ]
  },
  {
   "cell_type": "code",
   "execution_count": 3,
   "id": "fedb65d3-8988-4610-9a42-51677d3e9e88",
   "metadata": {},
   "outputs": [
    {
     "name": "stdout",
     "output_type": "stream",
     "text": [
      "[[0. 0. 0.]\n",
      " [0. 0. 0.]]\n",
      "[[0. 0. 0.]\n",
      " [0. 0. 0.]\n",
      " [0. 0. 0.]]\n",
      "[[0. 0. 0.]\n",
      " [0. 0. 0.]\n",
      " [0. 0. 0.]]\n",
      "[1. 1. 1. 1. 1.]\n",
      "[1. 1. 1. 1. 1.]\n",
      "[[3.5 3.5 3.5 3.5 3.5]\n",
      " [3.5 3.5 3.5 3.5 3.5]\n",
      " [3.5 3.5 3.5 3.5 3.5]\n",
      " [3.5 3.5 3.5 3.5 3.5]]\n",
      "[[1. 0. 0.]\n",
      " [0. 1. 0.]\n",
      " [0. 0. 1.]]\n",
      "[[1 0 0]\n",
      " [0 2 0]\n",
      " [0 0 3]]\n"
     ]
    }
   ],
   "source": [
    "# 生成特定形状的多维数组\n",
    "n = np.empty([2,3]) # 生成2行3列的空数组，每个元素是未初始化的垃圾值\n",
    "print(n)\n",
    "n1 = np.zeros([3,3]) # 生成3行3列的数组，每个元素都是0\n",
    "print(n1)\n",
    "n2 = np.zeros_like(n1) # 生成与n1形状一样的全0数组\n",
    "print(n2)\n",
    "n1 = np.ones(5) # 生成长度为5的一维数组，每个元素都是1\n",
    "print(n1)\n",
    "n2 = np.ones_like(n1) # 生成与n1形状一样的全1数组\n",
    "print(n2)\n",
    "n = np.full((4,5),3.5) # 生成4行5列的数组，每个元素都是3.5\n",
    "print(n)\n",
    "n = np.eye(3) # 生成3阶单位矩阵\n",
    "print(n)\n",
    "n = np.diag([1,2,3]) # 生成3阶对角矩阵\n",
    "print(n)"
   ]
  },
  {
   "cell_type": "code",
   "execution_count": 4,
   "id": "99397c72-0af1-4171-8e1a-f450624fe21b",
   "metadata": {},
   "outputs": [
    {
     "name": "stdout",
     "output_type": "stream",
     "text": [
      "[ 1  3  5  7  9 11]\n",
      "[0 1 2 3 4 5 6 7 8 9]\n",
      "[1.  1.5 2.  2.5 3.  3.5]\n",
      "[9 8 7 6 5 4 3 2 1 0]\n",
      "[0.         0.11111111 0.22222222 0.33333333 0.44444444 0.55555556\n",
      " 0.66666667 0.77777778 0.88888889 1.        ]\n"
     ]
    }
   ],
   "source": [
    "# 利用arange和linspace函数生成数组\n",
    "n = np.arange(start=1,stop=12,step=2) # 生成从1到12的等差数列组成的一维数组，公差为2，start默认为0，step默认为1\n",
    "print(n)\n",
    "n = np.arange(10)\n",
    "print(n)\n",
    "n = np.arange(1,4,0.5)\n",
    "print(n)\n",
    "n = np.arange(9,-1,-1)\n",
    "print(n)\n",
    "n = np.linspace(start=0,stop=1,num=10) # 生成0到1范围内一个等分数组，num数组长度默认为50\n",
    "print(n)"
   ]
  },
  {
   "cell_type": "code",
   "execution_count": 5,
   "id": "924fb8ba-43da-486a-ba74-a7c6788e68c7",
   "metadata": {},
   "outputs": [
    {
     "name": "stdout",
     "output_type": "stream",
     "text": [
      "[0.21672688 0.41872202 0.41428279 0.17027813 0.86614649 0.62067782\n",
      " 0.43610476 0.68450486 0.06035922 0.92730465]\n",
      "[[ 0.33631931 -0.78972444  0.92643631]\n",
      " [-0.27419659  0.77206164 -1.66094593]\n",
      " [ 1.4199694   0.69805168  0.26039679]]\n",
      "[ 0.19789951 -1.79551128 -1.39790635  0.37662056  1.6384644   2.9371538\n",
      "  4.66520365 -0.26928399  1.67263861 -0.57944888]\n",
      "[[1 5 4 3 2]\n",
      " [4 1 3 9 7]]\n"
     ]
    }
   ],
   "source": [
    "# 利用random模块生成数组\n",
    "# 生成0到1之间均匀分布的10个随机数\n",
    "# np.random.seed先设置一个种子，保证生成的结果可重现\n",
    "np.random.seed(312)\n",
    "n = np.random.uniform(0,1,10)\n",
    "print(n)\n",
    "# 生成标准正态分布的9个随机数，组成3行3列的二维数组\n",
    "n = np.random.randn(3,3)\n",
    "print(n)\n",
    "# 生成均值为1，标准差为2的正态分布的10个随机数\n",
    "np.random.seed(312)\n",
    "n = np.random.normal(1,2,10)\n",
    "print(n)\n",
    "# 生成1到10之间的10整数，组成2行5列的二维数组\n",
    "np.random.seed(312)\n",
    "n = np.random.randint(1,10,(2,5))\n",
    "print(n)"
   ]
  },
  {
   "cell_type": "code",
   "execution_count": 6,
   "id": "7fa4eca5-1b71-4648-887f-cea469e5dc00",
   "metadata": {},
   "outputs": [
    {
     "name": "stdout",
     "output_type": "stream",
     "text": [
      "2\n",
      "(2, 5)\n",
      "int32\n",
      "10\n",
      "[[1 5 4 3 2]\n",
      " [4 1 3 9 7]]\n"
     ]
    }
   ],
   "source": [
    "# 数组属性\n",
    "print(n.ndim) # 数组的维度数\n",
    "print(n.shape) # 数组的维度长度，为一个整数元组\n",
    "print(n.dtype) # 数据类型，描述数组中元素的类型\n",
    "print(n.size) # 数组中有多少个元素\n",
    "print(n.round(2)) # 数组中每个元素保留小数点后两位"
   ]
  },
  {
   "cell_type": "code",
   "execution_count": 7,
   "id": "15534721-a5fb-47e6-955f-0af8cf559d67",
   "metadata": {},
   "outputs": [
    {
     "name": "stdout",
     "output_type": "stream",
     "text": [
      "[0.58801452 0.69910875 0.18815196 0.04380856 0.20501895 0.10606287\n",
      " 0.72724014 0.67940052 0.4738457  0.44829582]\n",
      "0.5880145188953979\n",
      "0.4738457034082185\n",
      "[0.58801452 0.69910875]\n",
      "[0.58801452 0.69910875 0.18815196 0.04380856]\n",
      "[0.69910875 0.18815196 0.04380856 0.20501895 0.10606287 0.72724014\n",
      " 0.67940052 0.4738457  0.44829582]\n",
      "[0.58801452 0.69910875 0.18815196 0.04380856 0.20501895 0.10606287\n",
      " 0.72724014 0.67940052 0.4738457  0.44829582]\n",
      "[[ 0  1  2  3  4]\n",
      " [ 5  6  7  8  9]\n",
      " [10 11 12 13 14]\n",
      " [15 16 17 18 19]\n",
      " [20 21 22 23 24]]\n",
      "[[ 6  7]\n",
      " [11 12]]\n",
      "[4 5 6 7 8 9]\n",
      "[[ 5  6  7  8  9]\n",
      " [10 11 12 13 14]]\n",
      "[[ 5  6  7  8  9]\n",
      " [10 11 12 13 14]\n",
      " [15 16 17 18 19]]\n",
      "[[ 2  3  4]\n",
      " [ 7  8  9]\n",
      " [12 13 14]\n",
      " [17 18 19]\n",
      " [22 23 24]]\n",
      "[ 1.  2.  3.  4.  5.  6.  7.  8.  9. 10. 11. 12. 13. 14. 15. 16. 17. 18.\n",
      " 19. 20. 21. 22. 23. 24.]\n",
      "[[16. 24. 11. 15.]\n",
      " [16. 12.  8. 23.]\n",
      " [19. 24. 10.  7.]]\n",
      "[[ 3. 17. 12. 19.]\n",
      " [ 7. 15.  4. 10.]\n",
      " [14. 13. 24. 18.]]\n",
      "[[ 5. 21. 15.  9.]\n",
      " [19.  5. 23. 23.]\n",
      " [23. 24. 21. 10.]]\n"
     ]
    }
   ],
   "source": [
    "# 抽取数组元素\n",
    "np.random.seed(2024)\n",
    "n = np.random.random(10) #生成0到1之间的10个随机数\n",
    "print(n)\n",
    "print(n[0]) # 获取第一个元素\n",
    "print(n[-2]) # 获取倒数第二个元素\n",
    "print(n[0:2]) # 获取一段数据\n",
    "print(n[:4])\n",
    "print(n[1:])\n",
    "print(n[:]) # 获取所有元素\n",
    "n = np.arange(25).reshape(5,5)\n",
    "print(n)\n",
    "print(n[1:3,1:3]) # 获取多维数组中某个区域内的数据\n",
    "print(n[(n>3)&(n<10)]) # 获取多维数组中数值在某个值域内的数据\n",
    "print(n[[1,2],:]) # 获取多维数组中指定的行\n",
    "print(n[1:4,:]) \n",
    "print(n[:,2:]) # 获取多维数组中指定的列\n",
    "n = np.arange(1,25,dtype=float)\n",
    "print(n)\n",
    "n1 = np.random.choice(n,size=(3,4)) # 从n中随机抽取元素组成指定形状的数组，默认为有放回抽样\n",
    "print(n1)\n",
    "n2 = np.random.choice(n,size=(3,4),replace=False) # 从n中随机抽取元素组成指定形状的数组，replace=False代表无放回抽样\n",
    "print(n2)\n",
    "n3 = np.random.choice(n,size=(3,4),p=n/np.sum(n)) # 从n中随机抽取元素组成指定形状的数组，p指定n每个元素被抽取的概率，默认为相同概率抽样\n",
    "print(n3)"
   ]
  },
  {
   "cell_type": "code",
   "execution_count": 8,
   "id": "99994ab7-3540-49da-b361-bea8d966b1f7",
   "metadata": {},
   "outputs": [
    {
     "name": "stdout",
     "output_type": "stream",
     "text": [
      "[[ 1  2]\n",
      " [-1  4]]\n",
      "[[2.  0.2]\n",
      " [3.  4. ]]\n",
      "[[3.  2.2]\n",
      " [2.  8. ]]\n",
      "[[-1.   1.8]\n",
      " [-4.   0. ]]\n",
      "[[ 2.   0.4]\n",
      " [-3.  16. ]]\n",
      "[[ 0.5        10.        ]\n",
      " [-0.33333333  1.        ]]\n",
      "[[  1.           1.14869835]\n",
      " [ -1.         256.        ]]\n",
      "[[ 100  200]\n",
      " [-100  400]]\n"
     ]
    }
   ],
   "source": [
    "# NumPy的算术运算\n",
    "# 逐元素运算是两个矩阵中对应元素的运算，输出数组与输入数组大小一致\n",
    "n1 = np.array([[1,2],[-1,4]])\n",
    "n2 = np.array([[2,0.2],[3,4]])\n",
    "print(n1)\n",
    "print(n2)\n",
    "print(n1+n2)\n",
    "print(n1-n2)\n",
    "print(n1*n2)\n",
    "print(n1/n2)\n",
    "print(n1**n2)\n",
    "print(n1*100)"
   ]
  },
  {
   "cell_type": "code",
   "execution_count": 9,
   "id": "2642072d-b00c-44ba-a390-03dd16f1731a",
   "metadata": {},
   "outputs": [
    {
     "name": "stdout",
     "output_type": "stream",
     "text": [
      "[['A' '100']\n",
      " ['B' '200']\n",
      " ['C' '300']\n",
      " ['D' '400']]\n",
      "[['A' 'B' 'C' 'D']\n",
      " ['100' '200' '300' '400']]\n"
     ]
    }
   ],
   "source": [
    "n=np.array([['A',100],['B',200],['C',300],['D',400]])\n",
    "print(n)\n",
    "print(n.transpose())"
   ]
  },
  {
   "cell_type": "code",
   "execution_count": 10,
   "id": "bb7db3b8-6115-4789-83a6-0d9ab38c0e5b",
   "metadata": {},
   "outputs": [
    {
     "name": "stdout",
     "output_type": "stream",
     "text": [
      "['A' '100' 'B' '200' 'C' '300' 'D' '400']\n",
      "['A' 'B' 'C' 'D' '100' '200' '300' '400']\n"
     ]
    }
   ],
   "source": [
    "print(n.flatten())\n",
    "print(n.flatten(order=\"F\"))"
   ]
  },
  {
   "cell_type": "code",
   "execution_count": 11,
   "id": "12aae983-4ee9-463f-8afd-91a1c06bacb4",
   "metadata": {},
   "outputs": [
    {
     "name": "stdout",
     "output_type": "stream",
     "text": [
      "[[1 2]\n",
      " [3 4]\n",
      " [5 6]]\n",
      "[[10 20]\n",
      " [30 40]\n",
      " [50 60]]\n",
      "[[ 1  2 10 20]\n",
      " [ 3  4 30 40]\n",
      " [ 5  6 50 60]]\n",
      "[[ 1  2]\n",
      " [ 3  4]\n",
      " [ 5  6]\n",
      " [10 20]\n",
      " [30 40]\n",
      " [50 60]]\n"
     ]
    }
   ],
   "source": [
    "n1=np.array([[1,2],[3,4],[5,6]])\n",
    "n2=np.array([[10,20],[30,40],[50,60]])\n",
    "print(n1)\n",
    "print(n2)\n",
    "print(np.hstack((n1,n2)))\n",
    "print(np.vstack((n1,n2)))"
   ]
  },
  {
   "cell_type": "code",
   "execution_count": 12,
   "id": "ca15f637-0a6f-4a23-8fee-371bf2389c77",
   "metadata": {},
   "outputs": [
    {
     "name": "stdout",
     "output_type": "stream",
     "text": [
      "[[ 0.19789951 -1.79551128 -1.39790635  0.37662056  1.6384644   2.9371538\n",
      "   4.66520365 -0.26928399]\n",
      " [ 1.67263861 -0.57944888  2.85287262  0.45160683  2.54412329 -2.32189185\n",
      "   3.83993881  2.39610336]\n",
      " [ 1.52079358 -0.17077611  2.31968888 -1.05851569  2.40258142 -2.22289737\n",
      "  -0.06796161  0.71552633]]\n"
     ]
    }
   ],
   "source": [
    "np.random.seed(312)\n",
    "n=np.random.normal(1,2,(3,8))\n",
    "print(n)"
   ]
  },
  {
   "cell_type": "code",
   "execution_count": 13,
   "id": "7772aac1-4b59-4932-bf41-9e0d3d314978",
   "metadata": {},
   "outputs": [
    {
     "name": "stdout",
     "output_type": "stream",
     "text": [
      "20.647022518983203\n",
      "[ 3.3913317  -2.54573627  3.77465515 -0.2302883   6.58516911 -1.60763541\n",
      "  8.43718085  2.84234569]\n",
      "[ 6.3526403  10.85594277  3.43843944]\n"
     ]
    }
   ],
   "source": [
    "print(np.sum(n))\n",
    "print(np.sum(n,axis=0))\n",
    "print(np.sum(n,axis=1))"
   ]
  },
  {
   "cell_type": "code",
   "execution_count": 14,
   "id": "8c24c55a-3cf5-4aa8-96e7-4c4f3d2900b1",
   "metadata": {},
   "outputs": [
    {
     "name": "stdout",
     "output_type": "stream",
     "text": [
      "[[0.19789951 1.79551128 1.39790635 0.37662056 1.6384644  2.9371538\n",
      "  4.66520365 0.26928399]\n",
      " [1.67263861 0.57944888 2.85287262 0.45160683 2.54412329 2.32189185\n",
      "  3.83993881 2.39610336]\n",
      " [1.52079358 0.17077611 2.31968888 1.05851569 2.40258142 2.22289737\n",
      "  0.06796161 0.71552633]]\n",
      "0.8602926049576335\n",
      "4.6652036463951685\n",
      "-2.3218918531626076\n",
      "6\n",
      "13\n",
      "0.5835665764739222\n",
      "3.526865044994493\n",
      "1.8779949533996338\n"
     ]
    }
   ],
   "source": [
    "print(np.absolute(n))\n",
    "print(np.mean(n))\n",
    "print(np.max(n))\n",
    "print(np.min(n))\n",
    "print(np.argmax(n))\n",
    "print(np.argmin(n))\n",
    "print(np.median(n))\n",
    "print(np.var(n))\n",
    "print(np.std(n))"
   ]
  }
 ],
 "metadata": {
  "kernelspec": {
   "display_name": "Python 3 (ipykernel)",
   "language": "python",
   "name": "python3"
  },
  "language_info": {
   "codemirror_mode": {
    "name": "ipython",
    "version": 3
   },
   "file_extension": ".py",
   "mimetype": "text/x-python",
   "name": "python",
   "nbconvert_exporter": "python",
   "pygments_lexer": "ipython3",
   "version": "3.12.7"
  }
 },
 "nbformat": 4,
 "nbformat_minor": 5
}
