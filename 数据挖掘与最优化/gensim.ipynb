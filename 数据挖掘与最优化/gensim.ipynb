{
 "cells": [
  {
   "cell_type": "code",
   "execution_count": 2,
   "id": "bfe172ac",
   "metadata": {},
   "outputs": [],
   "source": [
    "import jieba\n",
    "from gensim.corpora import WikiCorpus\n",
    "from gensim.models import word2vec\n",
    "from gensim.models import Word2Vec\n",
    "# 中文维基百科语料库\n",
    "# https://dumps.wikimedia.org/zhwiki/latest/zhwiki-latest-pages-articles.xml.bz2"
   ]
  },
  {
   "cell_type": "code",
   "execution_count": 2,
   "id": "59e83166",
   "metadata": {},
   "outputs": [],
   "source": [
    "def wiki2txt(in_path,out_path): #将wiki原始文本转化为txt格式\n",
    "    wiki_corpus = WikiCorpus(in_path, dictionary={})\n",
    "    num = 0\n",
    "    with open(out_path, 'w', encoding='utf-8') as output:\n",
    "        for text in wiki_corpus.get_texts():  # get_texts() 将 wiki的一篇文章转为text的一行\n",
    "            output.write(' '.join(text) + '\\n')\n",
    "            num += 1\n",
    "            if num == 1000:\n",
    "                break"
   ]
  },
  {
   "cell_type": "code",
   "execution_count": 7,
   "id": "b874146f",
   "metadata": {},
   "outputs": [],
   "source": [
    "wiki2txt(in_path='E:/Teaching/数据挖掘与最优化/Data/zhwiki-latest-pages-articles.xml.bz2',out_path='E:/Teaching/数据挖掘与最优化/Data/wiki_text.txt')"
   ]
  },
  {
   "cell_type": "code",
   "execution_count": 4,
   "id": "1b451d22-2443-41f0-a354-1f86aebfe2a0",
   "metadata": {},
   "outputs": [
    {
     "data": {
      "text/plain": [
       "'中文简繁转换开源项目，支持词汇级别的转换、异体字转换和地区习惯用词转换（中国大陆、台湾、香港、日本新字体）。不提供普通话与粤语的转换。'"
      ]
     },
     "execution_count": 4,
     "metadata": {},
     "output_type": "execute_result"
    }
   ],
   "source": [
    "# 安装OpenCC，将繁体转化为简体\n",
    "# pip install OpenCC\n",
    "from opencc import OpenCC\n",
    "# 繁体到简体: 't2s'\n",
    "cc = OpenCC('t2s')\n",
    "cc.convert(\"中文簡繁轉換開源項目，支持詞彙級別的轉換、異體字轉換和地區習慣用詞轉換（中國大陸、臺灣、香港、日本新字體）。不提供普通話與粵語的轉換。\") "
   ]
  },
  {
   "cell_type": "code",
   "execution_count": 6,
   "id": "e6679a8b",
   "metadata": {},
   "outputs": [],
   "source": [
    "def jieba_cut(in_path,out_path):\n",
    "    output = open(out_path, 'w', encoding='utf-8')\n",
    "    with open(in_path, 'r', encoding='utf-8') as content:\n",
    "        for texts_num, line in enumerate(content):  # enumerate 给 line前加序号\n",
    "            line = line.strip('\\n')\n",
    "            line = cc.convert(line)\n",
    "            words = jieba.cut(line, cut_all=False)\n",
    "            for word in words:\n",
    "                output.write(word + ' ')\n",
    "            output.write('\\n')\n",
    "    output.close()"
   ]
  },
  {
   "cell_type": "code",
   "execution_count": 8,
   "id": "65563a98",
   "metadata": {},
   "outputs": [
    {
     "name": "stderr",
     "output_type": "stream",
     "text": [
      "Building prefix dict from the default dictionary ...\n",
      "Loading model from cache C:\\Users\\LIUYAN~1\\AppData\\Local\\Temp\\jieba.cache\n",
      "Loading model cost 0.704 seconds.\n",
      "Prefix dict has been built successfully.\n"
     ]
    }
   ],
   "source": [
    "jieba_cut(in_path='E:/Teaching/数据挖掘与最优化/Data/wiki_text.txt',out_path='E:/Teaching/数据挖掘与最优化/Data/wiki.txt')"
   ]
  },
  {
   "cell_type": "code",
   "execution_count": 10,
   "id": "e89d5e4c",
   "metadata": {},
   "outputs": [],
   "source": [
    "# LineSentence自动将文本文件处理成句子式数据\n",
    "sentences = word2vec.LineSentence('E:/Teaching/数据挖掘与最优化/Data/wiki.txt') "
   ]
  },
  {
   "cell_type": "code",
   "execution_count": 12,
   "id": "3c884335-3e24-46eb-b294-0ee446126e52",
   "metadata": {},
   "outputs": [],
   "source": [
    "# window: 窗口大小\n",
    "# vector_size： 词向量的维度\n",
    "# sg: 模型的训练算法: 1: skip-gram; 0: CBOW\n",
    "# min_count：低频次阈值。滤除未超过此频次的词\n",
    "# cbow_mean: 0：使用上下文单词向量的总和; 1: 使用均值，适用于CBOW\n",
    "# workers： 训练模型时使用的线程数\n",
    "model = Word2Vec(sentences, vector_size=100, window=5, min_count=1, workers=4, sg=0, cbow_mean=0)"
   ]
  },
  {
   "cell_type": "code",
   "execution_count": 14,
   "id": "bf69bd32",
   "metadata": {},
   "outputs": [],
   "source": [
    "# 保存训练好的模型\n",
    "model.save('E:/Teaching/数据挖掘与最优化/Code/wiki.model')\n",
    "# 导入之前训练好的模型\n",
    "# model = Word2Vec.load(\"E:/Teaching/数据挖掘与最优化/Code/wiki.model\")"
   ]
  },
  {
   "cell_type": "code",
   "execution_count": 16,
   "id": "479b25dd",
   "metadata": {},
   "outputs": [
    {
     "data": {
      "text/plain": [
       "185901"
      ]
     },
     "execution_count": 16,
     "metadata": {},
     "output_type": "execute_result"
    }
   ],
   "source": [
    "# 单词数量\n",
    "len(model.wv.key_to_index)"
   ]
  },
  {
   "cell_type": "code",
   "execution_count": 18,
   "id": "a99acda7-98d5-440a-a97d-3b1b62b82729",
   "metadata": {},
   "outputs": [
    {
     "name": "stderr",
     "output_type": "stream",
     "text": [
      "C:\\Users\\Liu Yang\\AppData\\Local\\Temp\\ipykernel_3148\\1785541489.py:2: DeprecationWarning: Call to deprecated `word_vec` (Use get_vector instead).\n",
      "  model.wv.word_vec(\"历史\")\n"
     ]
    },
    {
     "data": {
      "text/plain": [
       "array([-0.46822077,  0.01304112,  0.08762813, -0.08348284,  0.02369233,\n",
       "        0.06327277,  0.07560752,  0.38039652, -0.45035884, -0.4050934 ,\n",
       "       -0.0048076 , -0.7736181 , -0.8597421 ,  0.18009625,  0.39622533,\n",
       "       -0.00932433, -0.12781055, -0.36281818, -0.30924332, -0.60836136,\n",
       "        0.1273147 ,  0.5587347 ,  0.2835574 , -0.15587051, -0.17885938,\n",
       "       -0.39826563, -0.32592028, -0.107078  , -0.60363495, -0.01338803,\n",
       "       -0.20267019,  0.15076765,  0.12113513, -0.46058062, -0.43246248,\n",
       "       -0.06423352, -0.2430806 , -0.49464002, -0.19824359, -0.30638367,\n",
       "        0.13006338, -0.32554492, -0.14134122, -0.08862392, -0.03442799,\n",
       "       -0.11902287, -0.11505379,  0.14414825, -0.17808585,  0.34654748,\n",
       "       -0.03935786, -0.3129341 ,  0.23220065, -0.15992527, -0.04331738,\n",
       "        0.05455007,  0.0734014 ,  0.03633448, -0.02482835,  0.1275691 ,\n",
       "        0.1543513 ,  0.549653  , -0.40721944, -0.14877649, -0.25669697,\n",
       "        0.42824006, -0.35780397,  0.5855839 , -0.47415182, -0.02006449,\n",
       "       -0.22190545,  0.20501284, -0.24090001, -0.23380665,  0.35157004,\n",
       "       -0.00781661,  0.29446134, -0.21189371, -0.6318189 , -0.8038726 ,\n",
       "       -0.43439153, -0.20295367, -0.13995096,  0.5021325 ,  0.03600615,\n",
       "        0.17902413, -0.42318028,  0.19777201,  0.5017593 ,  0.13918437,\n",
       "        0.06883687, -0.25754163, -0.15260223,  0.29585317,  0.14137802,\n",
       "        0.6463904 ,  0.2942466 , -0.4741819 , -0.02992843,  0.2671613 ],\n",
       "      dtype=float32)"
      ]
     },
     "execution_count": 18,
     "metadata": {},
     "output_type": "execute_result"
    }
   ],
   "source": [
    "# 某个单词对应的词向量\n",
    "model.wv.word_vec(\"历史\")"
   ]
  },
  {
   "cell_type": "code",
   "execution_count": 20,
   "id": "69606ad3-e009-407d-8f77-4e823bb5c7be",
   "metadata": {},
   "outputs": [
    {
     "name": "stdout",
     "output_type": "stream",
     "text": [
      "0.9120362\n"
     ]
    }
   ],
   "source": [
    "# 单词和单词之间的相似度\n",
    "print(model.wv.similarity('猫', '狗'))"
   ]
  },
  {
   "cell_type": "code",
   "execution_count": 22,
   "id": "975ccec6",
   "metadata": {},
   "outputs": [
    {
     "name": "stdout",
     "output_type": "stream",
     "text": [
      "中国\n",
      "[('香港', 0.8069507479667664), ('台湾', 0.7988131046295166), ('韩国', 0.762339174747467), ('连续剧', 0.7539936900138855), ('霸王', 0.7529170513153076)]\n",
      "数学\n",
      "[('天文学', 0.972315788269043), ('物理', 0.9661376476287842), ('物理学', 0.9654505848884583), ('理论', 0.965279757976532), ('形而上学', 0.9611111879348755)]\n",
      "苹果\n",
      "[('机', 0.9709410667419434), ('石头', 0.9702107906341553), ('羊肉', 0.965071439743042), ('酥', 0.9649410247802734), ('八卦掌', 0.9630110859870911)]\n"
     ]
    }
   ],
   "source": [
    "# 模型测试-相似度计算\n",
    "test_words = [\"中国\", \"数学\", \"苹果\"]\n",
    "for i in range(len(test_words)):\n",
    "    res = model.wv.most_similar(test_words[i],topn=5)\n",
    "    print(test_words[i])\n",
    "    print(res)"
   ]
  },
  {
   "cell_type": "code",
   "execution_count": 24,
   "id": "900f88c4-eb23-4dfe-8fab-e425da545f59",
   "metadata": {},
   "outputs": [
    {
     "data": {
      "text/plain": [
       "'武松'"
      ]
     },
     "execution_count": 24,
     "metadata": {},
     "output_type": "execute_result"
    }
   ],
   "source": [
    "# 返回不合群单词\n",
    "model.wv.doesnt_match(\"孔明 张飞 关公 武松 张辽\".split())"
   ]
  },
  {
   "cell_type": "code",
   "execution_count": 26,
   "id": "ad414a26-367d-448e-a098-4f1f3cf91496",
   "metadata": {
    "scrolled": true
   },
   "outputs": [
    {
     "name": "stderr",
     "output_type": "stream",
     "text": [
      "C:\\Users\\Liu Yang\\AppData\\Local\\Temp\\ipykernel_3148\\3794928021.py:5: DeprecationWarning: Call to deprecated `word_vec` (Use get_vector instead).\n",
      "  vec_words.append(model.wv.word_vec(word))\n"
     ]
    }
   ],
   "source": [
    "# 词向量的可视化\n",
    "words = [\"语言\", \"数学\", \"苹果\", \"领域\", \"方法\", \"桥梁\", \"世界\", \"王朝\", \"军官\", \"选举\", \"透明\", \"香港\", \"猫\", \"狗\", \"篮球\"]\n",
    "vec_words = [] #保存词向量\n",
    "for word in words: #遍历词向量\n",
    "    vec_words.append(model.wv.word_vec(word))"
   ]
  },
  {
   "cell_type": "code",
   "execution_count": 30,
   "id": "cd1a08bc-b942-48d7-b346-4038d8ab26f0",
   "metadata": {},
   "outputs": [
    {
     "name": "stderr",
     "output_type": "stream",
     "text": [
      "D:\\Program Files\\Anaconda\\Lib\\site-packages\\IPython\\core\\pylabtools.py:170: UserWarning: Glyph 8722 (\\N{MINUS SIGN}) missing from font(s) SimHei.\n",
      "  fig.canvas.print_figure(bytes_io, **kw)\n"
     ]
    },
    {
     "data": {
      "image/png": "[encoded data removed]",
      "text/plain": [
       "<Figure size 640x480 with 1 Axes>"
      ]
     },
     "metadata": {},
     "output_type": "display_data"
    }
   ],
   "source": [
    "# 导入主成分分析包\n",
    "from sklearn.decomposition import PCA\n",
    "# 创建PCA模型\n",
    "pca = PCA(n_components=2)\n",
    "# 将100维词向量降低到两维\n",
    "vec_2 = pca.fit_transform(vec_words)\n",
    "\n",
    "# 导入绘图包\n",
    "import matplotlib.pyplot as plt\n",
    "import matplotlib\n",
    "matplotlib.rcParams['font.sans-serif'] = ['SimHei']\n",
    "plt.scatter(vec_2[:,0],vec_2[:,1])\n",
    "for i in range(len(words)):\n",
    "    plt.annotate(words[i], #点的标签文本\n",
    "                 xy=(vec_2[i,0],vec_2[i,1]), #点的坐标\n",
    "                 xytext=(-10,10), #标签文本的坐标\n",
    "                 textcoords=\"offset points\")\n",
    "plt.show()"
   ]
  }
 ],
 "metadata": {
  "kernelspec": {
   "display_name": "Python [conda env:base] *",
   "language": "python",
   "name": "conda-base-py"
  },
  "language_info": {
   "codemirror_mode": {
    "name": "ipython",
    "version": 3
   },
   "file_extension": ".py",
   "mimetype": "text/x-python",
   "name": "python",
   "nbconvert_exporter": "python",
   "pygments_lexer": "ipython3",
   "version": "3.12.7"
  }
 },
 "nbformat": 4,
 "nbformat_minor": 5
}
