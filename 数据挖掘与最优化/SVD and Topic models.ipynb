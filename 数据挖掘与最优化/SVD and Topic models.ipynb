{
 "cells": [
  {
   "cell_type": "code",
   "execution_count": 1,
   "id": "eb73c4ef-01ba-4c84-b830-ede409135f7c",
   "metadata": {},
   "outputs": [
    {
     "name": "stdout",
     "output_type": "stream",
     "text": [
      "[[1 0]\n",
      " [0 1]\n",
      " [2 2]]\n"
     ]
    },
    {
     "data": {
      "text/plain": [
       "SVDResult(U=array([[-2.35702260e-01,  7.07106781e-01, -6.66666667e-01],\n",
       "       [-2.35702260e-01, -7.07106781e-01, -6.66666667e-01],\n",
       "       [-9.42809042e-01, -1.11022302e-16,  3.33333333e-01]]), S=array([3., 1.]), Vh=array([[-0.70710678, -0.70710678],\n",
       "       [ 0.70710678, -0.70710678]]))"
      ]
     },
     "execution_count": 1,
     "metadata": {},
     "output_type": "execute_result"
    }
   ],
   "source": [
    "# Singular Value Decomposition\n",
    "# Given a matrix A with shape (m, n), the function returns a tuple (U, S, Vᵗ) \n",
    "# U is a matrix with shape (m, m) containing the left-singular vectors in its columns\n",
    "# S is a vector of size k = min(m, n) containing the singular values in descending order \n",
    "# Vᵗ is a matrix with shape (n, n) containing the right singular vectors in its rows\n",
    "import numpy as np\n",
    "\n",
    "A = np.array([[1, 0], [0, 1], [2, 2]])\n",
    "print(A)\n",
    "np.linalg.svd(A)"
   ]
  },
  {
   "cell_type": "code",
   "execution_count": 2,
   "id": "f7f47d54-c3b6-44a1-b846-3672afade0f3",
   "metadata": {},
   "outputs": [
    {
     "name": "stdout",
     "output_type": "stream",
     "text": [
      "[[-0.23570226]\n",
      " [-0.23570226]\n",
      " [-0.94280904]]\n",
      "[[3.]]\n",
      "[[-0.70710678 -0.70710678]]\n",
      "[[0.5 0.5]\n",
      " [0.5 0.5]\n",
      " [2.  2. ]]\n"
     ]
    }
   ],
   "source": [
    "# Truncated SVD is particularly effective\n",
    "# since the truncated matrix Aₖ is the best rank-k \n",
    "# approximation of the matrix A in terms of the Frobenius norm \n",
    "U, S, Vt = np.linalg.svd(A)\n",
    "\n",
    "k = 1  # target rank\n",
    "U_k = U[:, :k]\n",
    "S_k = np.diag(S[:k])\n",
    "Vt_k = Vt[:k, :]\n",
    "\n",
    "print(U_k)\n",
    "print(S_k)\n",
    "print(Vt_k)\n",
    "\n",
    "A_k = U_k @ S_k @ Vt_k\n",
    "print(A_k)"
   ]
  },
  {
   "cell_type": "code",
   "execution_count": 3,
   "id": "f252d63b-354a-44cd-b428-8d9e9f464036",
   "metadata": {},
   "outputs": [],
   "source": [
    "# 停用词表加载方法\n",
    "def get_stopword_list():\n",
    "    # 停用词表存储路径，每一行为一个词，按行读取进行加载\n",
    "    # 进行编码转换确保匹配准确率\n",
    "    stop_word_path = 'E:/Teaching/数据挖掘与最优化/Data/stopword.txt'\n",
    "    stopword_list = [sw.replace('\\n', '') for sw in open(stop_word_path,encoding='utf-8').readlines()]\n",
    "    return stopword_list"
   ]
  },
  {
   "cell_type": "code",
   "execution_count": 4,
   "id": "772eb76a-57e0-4574-9e4d-8c296c1a355e",
   "metadata": {},
   "outputs": [],
   "source": [
    "# 去除停用词\n",
    "def word_filter(seg_list):\n",
    "    stopword_list = get_stopword_list()\n",
    "    filter_list = []\n",
    "    for seg in seg_list:\n",
    "        word = seg\n",
    "        # 过滤停用词表中的词，以及长度为<2的词\n",
    "        if not word in stopword_list and len(word) > 1:\n",
    "            filter_list.append(word)\n",
    "    return filter_list"
   ]
  },
  {
   "cell_type": "code",
   "execution_count": 6,
   "id": "d1ac0762-9b35-469b-b31c-93afd4179636",
   "metadata": {},
   "outputs": [],
   "source": [
    "import jieba\n",
    "# 数据加载，corpus_path为数据集路径\n",
    "def load_data(corpus_path='E:/Teaching/数据挖掘与最优化/Data/corpus.txt'):\n",
    "    # 调用上面方式对数据集进行处理，处理后的每条数据仅保留非停用词\n",
    "    doc_list = []\n",
    "    for line in open(corpus_path, 'r',encoding='utf-8'):\n",
    "        content = line.strip()\n",
    "        seg_list = list(jieba.cut(content))\n",
    "        filter_list = word_filter(seg_list)\n",
    "        doc_list.append(\" \".join(filter_list))\n",
    "\n",
    "    return doc_list"
   ]
  },
  {
   "cell_type": "code",
   "execution_count": 7,
   "id": "b7cac51c-02bc-4b8a-b033-d72105bf5d78",
   "metadata": {},
   "outputs": [],
   "source": [
    "text = load_data()\n",
    "from sklearn.feature_extraction.text import TfidfVectorizer\n",
    "# https://scikit-learn.org/stable/modules/generated/sklearn.feature_extraction.text.TfidfVectorizer.html\n",
    "tfidfmodel = TfidfVectorizer().fit(text)\n",
    "input_matrix = tfidfmodel.transform(text).todense()\n",
    "vocab = tfidfmodel.get_feature_names_out()"
   ]
  },
  {
   "cell_type": "code",
   "execution_count": 9,
   "id": "159eb8bc-dec9-47c1-b0d6-f6bfb489a5a5",
   "metadata": {},
   "outputs": [
    {
     "name": "stdout",
     "output_type": "stream",
     "text": [
      "[[0. 0. 0. ... 0. 0. 0.]\n",
      " [0. 0. 0. ... 0. 0. 0.]\n",
      " [0. 0. 0. ... 0. 0. 0.]\n",
      " ...\n",
      " [0. 0. 0. ... 0. 0. 0.]\n",
      " [0. 0. 0. ... 0. 0. 0.]\n",
      " [0. 0. 0. ... 0. 0. 0.]]\n",
      "(164, 8651)\n",
      "['00' '000' '0000' ... '齐声' '龙头' '龟山']\n",
      "8651\n"
     ]
    }
   ],
   "source": [
    "print(input_matrix)\n",
    "print(input_matrix.shape)\n",
    "print(vocab)\n",
    "print(vocab.size)"
   ]
  },
  {
   "cell_type": "code",
   "execution_count": 12,
   "id": "6912deb9-4bc1-4959-888d-e97081807f23",
   "metadata": {},
   "outputs": [],
   "source": [
    "from sklearn.decomposition import TruncatedSVD\n",
    "# https://scikit-learn.org/stable/modules/generated/sklearn.decomposition.TruncatedSVD.html\n",
    "svd_modeling = TruncatedSVD(n_components=10, n_iter=100, random_state=122)\n",
    "topic_word = svd_modeling.fit(np.asarray(input_matrix)).components_\n",
    "document_topic = svd_modeling.fit_transform(np.asarray(input_matrix))"
   ]
  },
  {
   "cell_type": "code",
   "execution_count": 13,
   "id": "7fdc578f-930b-4649-9142-45f7582a7e96",
   "metadata": {},
   "outputs": [
    {
     "name": "stdout",
     "output_type": "stream",
     "text": [
      "[[ 3.14622907e-03  1.32150050e-03  2.30722625e-03 ...  1.88475879e-03\n",
      "   6.58291393e-04  3.57015722e-04]\n",
      " [-5.32513219e-03 -6.04240750e-04 -6.16468825e-04 ...  2.43655269e-03\n",
      "  -1.25686469e-03 -5.90555932e-04]\n",
      " [-2.24833902e-03 -3.29246634e-06  2.45635684e-03 ... -9.16699480e-04\n",
      "  -2.97458380e-04 -3.96218422e-05]\n",
      " ...\n",
      " [-5.81916987e-04 -1.25829558e-03 -5.86296347e-03 ...  2.67705371e-04\n",
      "   8.22727671e-04 -2.41734210e-04]\n",
      " [ 1.09091662e-03  4.35373986e-04 -8.96612749e-03 ... -2.75672171e-04\n",
      "   1.37406221e-04  5.97560498e-04]\n",
      " [-1.35853912e-03 -3.60755904e-04  2.36026531e-03 ...  1.43067092e-05\n",
      "  -2.75576761e-04 -3.29264847e-04]]\n"
     ]
    },
    {
     "data": {
      "text/plain": [
       "(10, 8651)"
      ]
     },
     "execution_count": 13,
     "metadata": {},
     "output_type": "execute_result"
    }
   ],
   "source": [
    "print(topic_word)\n",
    "topic_word.shape"
   ]
  },
  {
   "cell_type": "code",
   "execution_count": 14,
   "id": "71b7ae10-1bc5-4275-8160-abb5492c18de",
   "metadata": {},
   "outputs": [
    {
     "name": "stdout",
     "output_type": "stream",
     "text": [
      "[[ 8.37139928e-02 -1.03437730e-01 -4.11584750e-02 ... -5.05402961e-02\n",
      "   3.63615386e-02  2.26393359e-02]\n",
      " [ 4.00131203e-02 -4.90227860e-02 -3.90512539e-03 ...  6.35680806e-04\n",
      "  -1.31030443e-02 -9.91497252e-03]\n",
      " [ 1.01378024e-01 -2.08565483e-02 -9.54862265e-03 ...  1.13429506e-02\n",
      "  -5.29737656e-02 -5.29017212e-02]\n",
      " ...\n",
      " [ 3.98908711e-02 -5.03295208e-02 -1.65647828e-02 ...  2.13179067e-02\n",
      "  -3.95027322e-02  3.37989064e-02]\n",
      " [ 7.30539819e-02 -3.66572583e-02  2.38672573e-02 ...  3.95708990e-02\n",
      "   5.20358487e-02  1.15777214e-01]\n",
      " [ 6.83154580e-02 -7.13793735e-02  1.24959514e-02 ...  2.84030688e-01\n",
      "   2.16127026e-01  7.78270506e-01]]\n"
     ]
    },
    {
     "data": {
      "text/plain": [
       "(164, 10)"
      ]
     },
     "execution_count": 14,
     "metadata": {},
     "output_type": "execute_result"
    }
   ],
   "source": [
    "print(document_topic)\n",
    "document_topic.shape"
   ]
  },
  {
   "cell_type": "code",
   "execution_count": 15,
   "id": "e5776de2-5a2e-4617-a88f-8010f75e8309",
   "metadata": {},
   "outputs": [],
   "source": [
    "def get_topics(topic_word):\n",
    "  topic_word_list = []\n",
    "  for i, comp in enumerate(topic_word):\n",
    "    terms_comp = zip(vocab,comp)\n",
    "    sorted_terms = sorted(terms_comp, key= lambda x:x[1], reverse=True)[:5]\n",
    "    topic=\" \"\n",
    "    for t in sorted_terms:\n",
    "        topic= topic + ' ' + t[0]\n",
    "    topic_word_list.append(topic)\n",
    "  return topic_word_list"
   ]
  },
  {
   "cell_type": "code",
   "execution_count": 16,
   "id": "27c7f1ff-b7f8-45ea-91b5-09ec5fc803d0",
   "metadata": {},
   "outputs": [
    {
     "data": {
      "text/plain": [
       "['  孩子 运动鞋 公益 活动 详细',\n",
       " '  孩子 运动鞋 送双 奔跑 快乐',\n",
       " '  六一 搜狐 孤儿 338 522',\n",
       " '  艾滋病 红丝 活动 详细 主题',\n",
       " '  公益 2011 创新奖 获奖 韩国',\n",
       " '  孤儿 指标 健康 试用 捐款',\n",
       " '  孤儿 艾滋病 红丝 捐款 助养',\n",
       " '  指标 试用 专人 出水 得不到',\n",
       " '  指标 盖茨 试用 现场 承诺',\n",
       " '  试用 报告 提交 2032 申请']"
      ]
     },
     "execution_count": 16,
     "metadata": {},
     "output_type": "execute_result"
    }
   ],
   "source": [
    "get_topics(topic_word)"
   ]
  },
  {
   "cell_type": "code",
   "execution_count": 17,
   "id": "f8d4b9e2-41bf-44a5-a573-7137aa288223",
   "metadata": {},
   "outputs": [],
   "source": [
    "def get_document_topics(document_topic):\n",
    "  document_topic_list = []\n",
    "  for i, comp in enumerate(document_topic):\n",
    "    terms_comp = zip(get_topics(topic_word),comp)\n",
    "    sorted_terms = sorted(terms_comp, key= lambda x:x[1], reverse=True)[:2]\n",
    "    topic=\" \"\n",
    "    for t in sorted_terms:\n",
    "        topic= topic + ' ' + t[0]\n",
    "    document_topic_list.append(topic)\n",
    "  return document_topic_list"
   ]
  },
  {
   "cell_type": "code",
   "execution_count": 22,
   "id": "4677cb46-ee3f-4d46-8846-68f53215277f",
   "metadata": {},
   "outputs": [
    {
     "data": {
      "text/plain": [
       "164"
      ]
     },
     "execution_count": 22,
     "metadata": {},
     "output_type": "execute_result"
    }
   ],
   "source": [
    "get_document_topics(document_topic)"
   ]
  }
 ],
 "metadata": {
  "kernelspec": {
   "display_name": "Python 3 (ipykernel)",
   "language": "python",
   "name": "python3"
  },
  "language_info": {
   "codemirror_mode": {
    "name": "ipython",
    "version": 3
   },
   "file_extension": ".py",
   "mimetype": "text/x-python",
   "name": "python",
   "nbconvert_exporter": "python",
   "pygments_lexer": "ipython3",
   "version": "3.11.7"
  }
 },
 "nbformat": 4,
 "nbformat_minor": 5
}
